{
 "cells": [
  {
   "cell_type": "markdown",
   "metadata": {},
   "source": [
    "## sliding-puzzle\n",
    "\n",
    "O *sliding-puzzle* é um quebra-cabeça deslizante que consiste em uma grade $N\\times N$ na qual $N^2-1$ peças numeradas são colocadas aleatoriamente em $N^2-1$ das $N^2$ posições e uma posição está vazia, permitindo que as peças adjacentes sejam movidas para ocupar o espaço vazio, com o objetivo final de reorganizar as peças em uma ordem numérica específica, tipicamente de 1 a $N-1$, seguindo um número mínimo de movimentos.\n",
    "\n",
    "Observe que em $N\\times N$ posições podemos permutar as $N^2$ peças (contando o espaço vazio como peça), isto significa que temos $N!$ combinações possíveis. No entanto, nem todas essas permutações são possíveis no sliding-puzzle, pois algumas configurações não são alcançáveis a partir de outras por meio dos movimentos válidos.\n",
    "\n",
    "Utilizaremos este jogo para exemplificar algumas das técnicas de busca cega e heurística."
   ]
  },
  {
   "cell_type": "markdown",
   "metadata": {},
   "source": [
    "## Definição da classe sliding-puzzle\n",
    "\n",
    "A classe definida a seguir é uma estrutura de dados que encapsula as funcionalidades necessárias para representar e manipular um quebra-cabeça sliding-puzzle."
   ]
  },
  {
   "cell_type": "code",
   "execution_count": 1,
   "metadata": {},
   "outputs": [],
   "source": [
    "class SlidingPuzzle:\n",
    "    def __init__(self, initial_state):\n",
    "        self.state = initial_state\n",
    "\n",
    "    def __str__(self):\n",
    "        str_rep = \"\"\n",
    "        for row in self.state:\n",
    "            str_rep += \" \".join(map(str, row)) + \"\\n\"\n",
    "        return str_rep\n",
    "    \n",
    "    def move(self, direction):\n",
    "        # Encontra a posição do espaço vazio\n",
    "        empty_pos = self.find_empty()\n",
    "\n",
    "        # Verifica a direção e troca a posição do espaço vazio com a peça adjacente na direção especificada\n",
    "        if direction == 'up' and empty_pos[0] > 0:\n",
    "            self.state[empty_pos[0]][empty_pos[1]], self.state[empty_pos[0]-1][empty_pos[1]] = \\\n",
    "                self.state[empty_pos[0]-1][empty_pos[1]], self.state[empty_pos[0]][empty_pos[1]]\n",
    "        elif direction == 'down' and empty_pos[0] < 2:\n",
    "            self.state[empty_pos[0]][empty_pos[1]], self.state[empty_pos[0]+1][empty_pos[1]] = \\\n",
    "                self.state[empty_pos[0]+1][empty_pos[1]], self.state[empty_pos[0]][empty_pos[1]]\n",
    "        elif direction == 'left' and empty_pos[1] > 0:\n",
    "            self.state[empty_pos[0]][empty_pos[1]], self.state[empty_pos[0]][empty_pos[1]-1] = \\\n",
    "                self.state[empty_pos[0]][empty_pos[1]-1], self.state[empty_pos[0]][empty_pos[1]]\n",
    "        elif direction == 'right' and empty_pos[1] < 2:\n",
    "            self.state[empty_pos[0]][empty_pos[1]], self.state[empty_pos[0]][empty_pos[1]+1] = \\\n",
    "                self.state[empty_pos[0]][empty_pos[1]+1], self.state[empty_pos[0]][empty_pos[1]]\n",
    "\n",
    "    def get_state(self):\n",
    "        return tuple(map(tuple, self.state))\n",
    "\n",
    "    def find_empty(self):\n",
    "        for i in range(len(self.state)):\n",
    "            for j in range(len(self.state[0])):\n",
    "                if self.state[i][j] == 0:\n",
    "                    return (i, j)\n",
    "                \n",
    "    # Busca possíveis movimentos com possibilidade de descartar o ultimo movimento realizado\n",
    "    def get_possible_moves(self, last_move='none'):\n",
    "        possible_moves = []\n",
    "        empty_pos = self.find_empty()\n",
    "        if empty_pos[0] > 0 and last_move!='down':\n",
    "            possible_moves.append('up')\n",
    "        if empty_pos[0] < len(self.state)-1 and last_move!='up':\n",
    "            possible_moves.append('down')\n",
    "        if empty_pos[1] > 0 and last_move!='right':\n",
    "            possible_moves.append('left')\n",
    "        if empty_pos[1] < len(self.state)-1 and last_move!='left':\n",
    "            possible_moves.append('right')\n",
    "        return possible_moves\n",
    "    \n",
    "    def get_inverse(self, move):\n",
    "        if move == 'up':\n",
    "            return 'down'\n",
    "        if move == 'down':\n",
    "            return 'up'\n",
    "        if move == 'left':\n",
    "            return 'right'\n",
    "        if move == 'right':\n",
    "            return 'left'\n",
    "        return None"
   ]
  },
  {
   "cell_type": "markdown",
   "metadata": {},
   "source": [
    "Exemplo de uso da classe Puzzle8:"
   ]
  },
  {
   "cell_type": "code",
   "execution_count": 2,
   "metadata": {},
   "outputs": [
    {
     "name": "stdout",
     "output_type": "stream",
     "text": [
      "Estado inicial:\n",
      "1 2 3\n",
      "4 0 5\n",
      "6 7 8\n",
      "\n",
      "Depois de mover para cima:\n",
      "1 0 3\n",
      "4 2 5\n",
      "6 7 8\n",
      "\n",
      "Depois de mover para baixo:\n",
      "1 2 3\n",
      "4 0 5\n",
      "6 7 8\n",
      "\n",
      "Depois de mover para direita:\n",
      "1 2 3\n",
      "4 5 0\n",
      "6 7 8\n",
      "\n",
      "Depois de mover para esquerda:\n",
      "1 2 3\n",
      "4 0 5\n",
      "6 7 8\n",
      "\n"
     ]
    }
   ],
   "source": [
    "# Exemplo de uso\n",
    "initial_state = [\n",
    "    [1, 2, 3],\n",
    "    [4, 0, 5],\n",
    "    [6, 7, 8]\n",
    "]\n",
    "\n",
    "puzzle = SlidingPuzzle(initial_state)\n",
    "print(\"Estado inicial:\")\n",
    "print(puzzle)\n",
    "\n",
    "# Movendo a peça vazia para cima\n",
    "puzzle.move('up')\n",
    "print(\"Depois de mover para cima:\")\n",
    "print(puzzle)\n",
    "puzzle.move('down')\n",
    "print(\"Depois de mover para baixo:\")\n",
    "print(puzzle)\n",
    "puzzle.move('right')\n",
    "print(\"Depois de mover para direita:\")\n",
    "print(puzzle)\n",
    "puzzle.move('left')\n",
    "print(\"Depois de mover para esquerda:\")\n",
    "print(puzzle)"
   ]
  },
  {
   "cell_type": "markdown",
   "metadata": {},
   "source": [
    "## Busca Cega"
   ]
  },
  {
   "cell_type": "markdown",
   "metadata": {},
   "source": [
    "### Backtracking"
   ]
  },
  {
   "cell_type": "code",
   "execution_count": 3,
   "metadata": {},
   "outputs": [],
   "source": [
    "class BacktrackingSolver:\n",
    "    def __init__(self, puzzle, goal):\n",
    "        self.puzzle = puzzle\n",
    "        self.visited = set()\n",
    "        self.goal = goal\n",
    "\n",
    "    def solve(self):\n",
    "        return self.backtrack()\n",
    "\n",
    "    # Função de busca por força bruta\n",
    "    def backtrack(self, last_move='none'):\n",
    "        state = self.puzzle.get_state()\n",
    "        if self.is_goal(state):\n",
    "            return [state]\n",
    "        for move in self.puzzle.get_possible_moves(last_move):\n",
    "            self.puzzle.move(move)\n",
    "            last_move = move\n",
    "            solution = self.backtrack(last_move)\n",
    "            if solution:\n",
    "                return [state] + solution\n",
    "            else:\n",
    "                reverse = self.puzzle.get_inverse(move)\n",
    "                self.puzzle.move(reverse)\n",
    "                    \n",
    "        return None\n",
    "\n",
    "    # Função verifica estado final\n",
    "    def is_goal(self, state):\n",
    "        state_list = [list(row) for row in state]\n",
    "        return state_list == self.goal"
   ]
  },
  {
   "cell_type": "code",
   "execution_count": 4,
   "metadata": {},
   "outputs": [
    {
     "name": "stdout",
     "output_type": "stream",
     "text": [
      "Solução encontrada:\n",
      "Passo 1: ((3, 2), (0, 1))\n",
      "Passo 2: ((0, 2), (3, 1))\n",
      "Passo 3: ((2, 0), (3, 1))\n",
      "Passo 4: ((2, 1), (3, 0))\n",
      "Passo 5: ((2, 1), (0, 3))\n",
      "Passo 6: ((0, 1), (2, 3))\n"
     ]
    }
   ],
   "source": [
    "# Exemplo de uso\n",
    "#initial_state = [[2,8,3], [1,6,4], [7,0,5]]\n",
    "#goal_state = [[1,2,3],[8,0,4],[7,6,5]]\n",
    "initial_state = [[3,2], [0,1]]\n",
    "goal_state = [[0,1],[2,3]]\n",
    "puzzle = SlidingPuzzle(initial_state)\n",
    "solver = BacktrackingSolver(puzzle, goal_state)\n",
    "solution = solver.solve()\n",
    "\n",
    "if solution:\n",
    "    print(\"Solução encontrada:\")\n",
    "    for step, state in enumerate(solution):\n",
    "        print(f\"Passo {step+1}: {state}\")\n",
    "else:\n",
    "    print(\"Não foi possível encontrar uma solução.\")\n"
   ]
  },
  {
   "cell_type": "code",
   "execution_count": 5,
   "metadata": {},
   "outputs": [
    {
     "name": "stdout",
     "output_type": "stream",
     "text": [
      "(0, 1, 2, 3)\n",
      "(0, 1, 3, 2)\n",
      "(0, 2, 1, 3)\n",
      "(0, 2, 3, 1)\n",
      "(0, 3, 1, 2)\n",
      "(0, 3, 2, 1)\n",
      "(1, 0, 2, 3)\n",
      "(1, 0, 3, 2)\n",
      "(1, 2, 0, 3)\n",
      "(1, 2, 3, 0)\n",
      "(1, 3, 0, 2)\n",
      "(1, 3, 2, 0)\n",
      "(2, 0, 1, 3)\n",
      "(2, 0, 3, 1)\n",
      "(2, 1, 0, 3)\n",
      "(2, 1, 3, 0)\n",
      "(2, 3, 0, 1)\n",
      "(2, 3, 1, 0)\n",
      "(3, 0, 1, 2)\n",
      "(3, 0, 2, 1)\n",
      "(3, 1, 0, 2)\n",
      "(3, 1, 2, 0)\n",
      "(3, 2, 0, 1)\n",
      "(3, 2, 1, 0)\n"
     ]
    }
   ],
   "source": [
    "from itertools import permutations\n",
    "\n",
    "# Definindo os valores possíveis\n",
    "valores = [0, 1, 2, 3]\n",
    "\n",
    "# Gerando todas as permutações possíveis\n",
    "perms = list(permutations(valores))\n",
    "\n",
    "# Mostrando as permutações\n",
    "for p in perms:\n",
    "    print(p)\n"
   ]
  },
  {
   "cell_type": "code",
   "execution_count": 6,
   "metadata": {},
   "outputs": [
    {
     "name": "stdout",
     "output_type": "stream",
     "text": [
      "(0, 1, 2, 3)\n",
      "(0, 2, 1, 3)\n",
      "(0, 3, 1, 2)\n",
      "(1, 0, 2, 3)\n",
      "(1, 2, 0, 3)\n",
      "(1, 3, 0, 2)\n",
      "(2, 0, 1, 3)\n",
      "(2, 1, 0, 3)\n",
      "(2, 3, 0, 1)\n",
      "(3, 0, 1, 2)\n",
      "(3, 1, 0, 2)\n",
      "(3, 2, 0, 1)\n"
     ]
    }
   ],
   "source": [
    "from itertools import permutations\n",
    "\n",
    "# Definindo os valores possíveis\n",
    "valores = [0, 1, 2, 3]\n",
    "\n",
    "# Gerando todas as permutações possíveis\n",
    "perms = list(permutations(valores))\n",
    "\n",
    "# Filtrando as permutações pares\n",
    "perms_pares = [p for i, p in enumerate(perms) if i % 2 == 0]\n",
    "\n",
    "# Mostrando as permutações pares\n",
    "for p in perms_pares:\n",
    "    print(p)\n"
   ]
  }
 ],
 "metadata": {
  "kernelspec": {
   "display_name": "Python 3",
   "language": "python",
   "name": "python3"
  },
  "language_info": {
   "codemirror_mode": {
    "name": "ipython",
    "version": 3
   },
   "file_extension": ".py",
   "mimetype": "text/x-python",
   "name": "python",
   "nbconvert_exporter": "python",
   "pygments_lexer": "ipython3",
   "version": "3.12.1"
  }
 },
 "nbformat": 4,
 "nbformat_minor": 2
}
