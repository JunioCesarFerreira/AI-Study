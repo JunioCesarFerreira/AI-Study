{
 "cells": [
  {
   "cell_type": "markdown",
   "metadata": {},
   "source": [
    "# Problema das N Rainhas\n",
    "\n",
    "O problema das N rainhas é um clássico desafio de xadrez e teoria dos algoritmos, onde o objetivo é posicionar N rainhas em um tabuleiro de xadrez N x N de forma que nenhuma rainha esteja atacando as outras. Isso significa que nenhuma rainha pode estar na mesma linha, coluna ou diagonal que qualquer outra rainha. "
   ]
  },
  {
   "cell_type": "markdown",
   "metadata": {},
   "source": [
    "#### Representação do Tabuleiro"
   ]
  },
  {
   "cell_type": "code",
   "execution_count": 13,
   "metadata": {},
   "outputs": [],
   "source": [
    "class NQueenBoard:\n",
    "    def __init__(self, N):\n",
    "        self.N = N\n",
    "        self.board = [[0] * N for _ in range(N)]\n",
    "    \n",
    "    def is_safe(self, row, col):\n",
    "        # Verifica a linha à esquerda\n",
    "        for i in range(col):\n",
    "            if self.board[row][i] == 1:\n",
    "                return False\n",
    "        \n",
    "        # Verifica a diagonal superior à esquerda\n",
    "        for i, j in zip(range(row, -1, -1), range(col, -1, -1)):\n",
    "            if self.board[i][j] == 1:\n",
    "                return False\n",
    "        \n",
    "        # Verifica a diagonal inferior à esquerda\n",
    "        for i, j in zip(range(row, self.N, 1), range(col, -1, -1)):\n",
    "            if self.board[i][j] == 1:\n",
    "                return False\n",
    "        \n",
    "        return True\n",
    "    \n",
    "    def print(self):\n",
    "        print('+' + '---+' * self.N)\n",
    "        for i in range(self.N):\n",
    "            print('|' + '|'.join(' X ' if self.board[i][j] else '   ' for j in range(self.N)) + '|')\n",
    "            print('+' + '---+' * self.N)"
   ]
  },
  {
   "cell_type": "markdown",
   "metadata": {},
   "source": [
    "#### Solução usando Backtracking"
   ]
  },
  {
   "cell_type": "code",
   "execution_count": 14,
   "metadata": {},
   "outputs": [],
   "source": [
    "class BacktrackSolver:\n",
    "    def __init__(self, board):\n",
    "        self.board = board\n",
    "        \n",
    "    def solve_n_queens_util(self, col):\n",
    "        # Se todas as rainhas estão colocadas, retorna verdadeiro\n",
    "        if col >= self.board.N:\n",
    "            return True\n",
    "        \n",
    "        for i in range(self.board.N):\n",
    "            if self.board.is_safe(i, col):\n",
    "                # Coloca a rainha\n",
    "                self.board.board[i][col] = 1\n",
    "                \n",
    "                # Recursão para colocar o restante das rainhas\n",
    "                if self.solve_n_queens_util(col + 1):\n",
    "                    return True\n",
    "                \n",
    "                # Se colocar a rainha em board[i][col]\n",
    "                # não conduz a uma solução, então remove a rainha (backtracking)\n",
    "                self.board.board[i][col] = 0\n",
    "        \n",
    "        # Se a rainha não pode ser colocada em nenhuma linha nesta coluna, retorna falso\n",
    "        return False\n",
    "    \n",
    "    def solve_n_queens(self):\n",
    "        if not self.solve_n_queens_util(0):\n",
    "            print(\"Não existe solução.\")\n",
    "            return None\n",
    "        return self.board"
   ]
  },
  {
   "cell_type": "code",
   "execution_count": 19,
   "metadata": {},
   "outputs": [
    {
     "name": "stdout",
     "output_type": "stream",
     "text": [
      "Tabuleiro com solução:\n",
      "+---+---+---+---+---+---+---+---+\n",
      "| X |   |   |   |   |   |   |   |\n",
      "+---+---+---+---+---+---+---+---+\n",
      "|   |   |   |   |   |   | X |   |\n",
      "+---+---+---+---+---+---+---+---+\n",
      "|   |   |   |   | X |   |   |   |\n",
      "+---+---+---+---+---+---+---+---+\n",
      "|   |   |   |   |   |   |   | X |\n",
      "+---+---+---+---+---+---+---+---+\n",
      "|   | X |   |   |   |   |   |   |\n",
      "+---+---+---+---+---+---+---+---+\n",
      "|   |   |   | X |   |   |   |   |\n",
      "+---+---+---+---+---+---+---+---+\n",
      "|   |   |   |   |   | X |   |   |\n",
      "+---+---+---+---+---+---+---+---+\n",
      "|   |   | X |   |   |   |   |   |\n",
      "+---+---+---+---+---+---+---+---+\n"
     ]
    }
   ],
   "source": [
    "# Aplicando o uso do backtracking\n",
    "board = NQueenBoard(8)\n",
    "solver = BacktrackSolver(board)\n",
    "result = solver.solve_n_queens()\n",
    "if result:\n",
    "    print(\"Tabuleiro com solução:\")\n",
    "    result.print()\n",
    "else:\n",
    "    print(\"Não foi possível encontrar solução.\")"
   ]
  },
  {
   "cell_type": "code",
   "execution_count": 20,
   "metadata": {},
   "outputs": [],
   "source": [
    "import random\n",
    "\n",
    "class HillClimbingSolver:\n",
    "    def __init__(self, board):\n",
    "        self.board = board\n",
    "\n",
    "    def initialize_board_randomly(self):\n",
    "        self.board.board = [[0] * self.board.N for _ in range(self.board.N)]\n",
    "        for col in range(self.board.N):\n",
    "            row = random.randint(0, self.board.N - 1)\n",
    "            self.board.board[row][col] = 1\n",
    "\n",
    "    def find_conflicts(self, row, col):\n",
    "        # Temporarily remove the queen to count conflicts accurately\n",
    "        self.board.board[row][col] = 0\n",
    "        conflicts = sum(not self.board.is_safe(row, i) for i in range(self.board.N))\n",
    "        self.board.board[row][col] = 1\n",
    "        return conflicts\n",
    "\n",
    "    def solve_n_queens(self):\n",
    "        self.initialize_board_randomly()\n",
    "        for _ in range(10000):  # Limita o número de iterações\n",
    "            max_conflict = 0\n",
    "            best_move = None\n",
    "            for col in range(self.board.N):\n",
    "                current_row = [r for r in range(self.board.N) if self.board.board[r][col] == 1][0]\n",
    "                for row in range(self.board.N):\n",
    "                    if row != current_row:\n",
    "                        current_conflicts = self.find_conflicts(current_row, col)\n",
    "                        potential_conflicts = self.find_conflicts(row, col)\n",
    "                        if current_conflicts - potential_conflicts > max_conflict:\n",
    "                            max_conflict = current_conflicts - potential_conflicts\n",
    "                            best_move = (row, col, current_row)\n",
    "            if best_move:\n",
    "                new_row, col, old_row = best_move\n",
    "                self.board.board[old_row][col] = 0\n",
    "                self.board.board[new_row][col] = 1\n",
    "            if all(self.board.is_safe(row, col) for col in range(self.board.N) for row in range(self.board.N) if self.board.board[row][col] == 1):\n",
    "                self.board.print()\n",
    "                return True\n",
    "        print(\"Não foi possível encontrar uma solução.\")\n",
    "        return False\n"
   ]
  },
  {
   "cell_type": "code",
   "execution_count": 22,
   "metadata": {},
   "outputs": [
    {
     "ename": "AttributeError",
     "evalue": "'HillClimbingSolver' object has no attribute 'solve_n_queens'",
     "output_type": "error",
     "traceback": [
      "\u001b[1;31m---------------------------------------------------------------------------\u001b[0m",
      "\u001b[1;31mAttributeError\u001b[0m                            Traceback (most recent call last)",
      "Cell \u001b[1;32mIn[22], line 4\u001b[0m\n\u001b[0;32m      2\u001b[0m board \u001b[38;5;241m=\u001b[39m NQueenBoard(\u001b[38;5;241m8\u001b[39m)\n\u001b[0;32m      3\u001b[0m solver \u001b[38;5;241m=\u001b[39m HillClimbingSolver(board)\n\u001b[1;32m----> 4\u001b[0m \u001b[38;5;28;01mif\u001b[39;00m \u001b[43msolver\u001b[49m\u001b[38;5;241;43m.\u001b[39;49m\u001b[43msolve_n_queens\u001b[49m()\u001b[38;5;241m==\u001b[39m\u001b[38;5;28;01mFalse\u001b[39;00m:\n\u001b[0;32m      5\u001b[0m     \u001b[38;5;28mprint\u001b[39m(\u001b[38;5;124m\"\u001b[39m\u001b[38;5;124mNão foi possível encontrar solução.\u001b[39m\u001b[38;5;124m\"\u001b[39m)\n",
      "\u001b[1;31mAttributeError\u001b[0m: 'HillClimbingSolver' object has no attribute 'solve_n_queens'"
     ]
    }
   ],
   "source": [
    "# Aplicando o uso do backtracking\n",
    "board = NQueenBoard(8)\n",
    "solver = HillClimbingSolver(board)\n",
    "if solver.solve_n_queens()==False:\n",
    "    print(\"Não foi possível encontrar solução.\")"
   ]
  }
 ],
 "metadata": {
  "kernelspec": {
   "display_name": "Python 3",
   "language": "python",
   "name": "python3"
  },
  "language_info": {
   "codemirror_mode": {
    "name": "ipython",
    "version": 3
   },
   "file_extension": ".py",
   "mimetype": "text/x-python",
   "name": "python",
   "nbconvert_exporter": "python",
   "pygments_lexer": "ipython3",
   "version": "3.12.1"
  }
 },
 "nbformat": 4,
 "nbformat_minor": 2
}
