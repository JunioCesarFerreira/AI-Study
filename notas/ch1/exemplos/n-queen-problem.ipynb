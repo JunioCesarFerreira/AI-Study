{
 "cells": [
  {
   "cell_type": "markdown",
   "metadata": {},
   "source": [
    "# Problema das N Rainhas\n",
    "\n",
    "O problema das N rainhas é um clássico desafio de xadrez e teoria dos algoritmos, onde o objetivo é posicionar N rainhas em um tabuleiro de xadrez N x N de forma que nenhuma rainha esteja atacando as outras. Isso significa que nenhuma rainha pode estar na mesma linha, coluna ou diagonal que qualquer outra rainha. "
   ]
  },
  {
   "cell_type": "markdown",
   "metadata": {},
   "source": [
    "#### Representação do Tabuleiro"
   ]
  },
  {
   "cell_type": "code",
   "execution_count": 1,
   "metadata": {},
   "outputs": [],
   "source": [
    "class NQueenBoard:\n",
    "    def __init__(self, N):\n",
    "        self.N = N\n",
    "        self.board = [[0] * N for _ in range(N)]\n",
    "    \n",
    "    def is_safe(self, row, col):\n",
    "        # Verifica a linha à esquerda\n",
    "        for i in range(col):\n",
    "            if self.board[row][i] == 1:\n",
    "                return False\n",
    "        \n",
    "        # Verifica a diagonal superior à esquerda\n",
    "        for i, j in zip(range(row, -1, -1), range(col, -1, -1)):\n",
    "            if self.board[i][j] == 1:\n",
    "                return False\n",
    "        \n",
    "        # Verifica a diagonal inferior à esquerda\n",
    "        for i, j in zip(range(row, self.N, 1), range(col, -1, -1)):\n",
    "            if self.board[i][j] == 1:\n",
    "                return False\n",
    "        \n",
    "        return True\n",
    "    \n",
    "    def print(self):\n",
    "        print('+' + '---+' * self.N)\n",
    "        for i in range(self.N):\n",
    "            print('|' + '|'.join(' X ' if self.board[i][j] else '   ' for j in range(self.N)) + '|')\n",
    "            print('+' + '---+' * self.N)"
   ]
  },
  {
   "cell_type": "markdown",
   "metadata": {},
   "source": [
    "#### Solução usando Backtracking"
   ]
  },
  {
   "cell_type": "code",
   "execution_count": 2,
   "metadata": {},
   "outputs": [],
   "source": [
    "class BacktrackSolver:\n",
    "    def __init__(self, board):\n",
    "        self.board = board\n",
    "        \n",
    "    def solve_n_queens_util(self, col):\n",
    "        # Se todas as rainhas estão colocadas, retorna verdadeiro\n",
    "        if col >= self.board.N:\n",
    "            return True\n",
    "        \n",
    "        for i in range(self.board.N):\n",
    "            if self.board.is_safe(i, col):\n",
    "                # Coloca a rainha\n",
    "                self.board.board[i][col] = 1\n",
    "                \n",
    "                # Recursão para colocar o restante das rainhas\n",
    "                if self.solve_n_queens_util(col + 1):\n",
    "                    return True\n",
    "                \n",
    "                # Se colocar a rainha em board[i][col]\n",
    "                # não conduz a uma solução, então remove a rainha (backtracking)\n",
    "                self.board.board[i][col] = 0\n",
    "        \n",
    "        # Se a rainha não pode ser colocada em nenhuma linha nesta coluna, retorna falso\n",
    "        return False\n",
    "    \n",
    "    def solve_n_queens(self):\n",
    "        if not self.solve_n_queens_util(0):\n",
    "            print(\"Não existe solução.\")\n",
    "            return None\n",
    "        return self.board"
   ]
  },
  {
   "cell_type": "code",
   "execution_count": 3,
   "metadata": {},
   "outputs": [
    {
     "name": "stdout",
     "output_type": "stream",
     "text": [
      "Tabuleiro com solução:\n",
      "+---+---+---+---+---+---+---+---+\n",
      "| X |   |   |   |   |   |   |   |\n",
      "+---+---+---+---+---+---+---+---+\n",
      "|   |   |   |   |   |   | X |   |\n",
      "+---+---+---+---+---+---+---+---+\n",
      "|   |   |   |   | X |   |   |   |\n",
      "+---+---+---+---+---+---+---+---+\n",
      "|   |   |   |   |   |   |   | X |\n",
      "+---+---+---+---+---+---+---+---+\n",
      "|   | X |   |   |   |   |   |   |\n",
      "+---+---+---+---+---+---+---+---+\n",
      "|   |   |   | X |   |   |   |   |\n",
      "+---+---+---+---+---+---+---+---+\n",
      "|   |   |   |   |   | X |   |   |\n",
      "+---+---+---+---+---+---+---+---+\n",
      "|   |   | X |   |   |   |   |   |\n",
      "+---+---+---+---+---+---+---+---+\n"
     ]
    }
   ],
   "source": [
    "# Aplicando o uso do backtracking\n",
    "board = NQueenBoard(8)\n",
    "solver = BacktrackSolver(board)\n",
    "result = solver.solve_n_queens()\n",
    "if result:\n",
    "    print(\"Tabuleiro com solução:\")\n",
    "    result.print()\n",
    "else:\n",
    "    print(\"Não foi possível encontrar solução.\")"
   ]
  }
 ],
 "metadata": {
  "kernelspec": {
   "display_name": "Python 3",
   "language": "python",
   "name": "python3"
  },
  "language_info": {
   "codemirror_mode": {
    "name": "ipython",
    "version": 3
   },
   "file_extension": ".py",
   "mimetype": "text/x-python",
   "name": "python",
   "nbconvert_exporter": "python",
   "pygments_lexer": "ipython3",
   "version": "3.12.1"
  }
 },
 "nbformat": 4,
 "nbformat_minor": 2
}
