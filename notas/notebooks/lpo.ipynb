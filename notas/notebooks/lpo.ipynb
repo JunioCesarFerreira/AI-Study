{
 "cells": [
  {
   "cell_type": "code",
   "execution_count": 1,
   "metadata": {},
   "outputs": [
    {
     "name": "stdout",
     "output_type": "stream",
     "text": [
      "Resolvendo: [('~h', 'X'), ('~d', 'Y'), ('f', 'X', 'Y')] com [('~g', 'Y'), ('d', 'Y')] => [('~h', 'X'), ('f', 'X', 'Y'), ('~g', 'Y')]\n",
      "Resolvendo: [('~h', 'X'), ('~d', 'Y'), ('f', 'X', 'Y')] com [('~f', 'X', 'Y'), ('~f', 'Y', 'Z'), ('f', 'X', 'Z')] => [('~h', 'X'), ('~d', 'Y'), ('~f', 'Y', 'Z'), ('f', 'X', 'Z')]\n",
      "Resolvendo: [('~h', 'X'), ('~d', 'Y'), ('f', 'X', 'Y')] com [('h', 'X'), ('r', 'Z'), ('~f', 'X', 'Z')] => [('~d', 'Y'), ('f', 'X', 'Y'), ('r', 'Z'), ('~f', 'X', 'Z')]\n",
      "Resolvendo: [('~f', 'X', 'Y'), ('~f', 'Y', 'Z'), ('f', 'X', 'Z')] com [('h', 'X'), ('r', 'Z'), ('~f', 'X', 'Z')] => [('~f', 'X', 'Y'), ('~f', 'Y', 'Z'), ('h', 'X'), ('r', 'Z')]\n"
     ]
    }
   ],
   "source": [
    "# Função para verificar se dois literais são complementares\n",
    "def literais_complementares(lit1, lit2):\n",
    "    return lit1[0] == '~' + lit2[0] or '~' + lit1[0] == lit2[0]\n",
    "\n",
    "# Função para aplicar a regra de resolução a duas cláusulas\n",
    "def resolver(clausula1, clausula2):\n",
    "    nova_clausula = []\n",
    "    for lit1 in clausula1:\n",
    "        for lit2 in clausula2:\n",
    "            if literais_complementares(lit1, lit2):\n",
    "                # Cria nova cláusula excluindo os literais complementares\n",
    "                nova_clausula = [l for l in clausula1 if l != lit1] + [l for l in clausula2 if l != lit2]\n",
    "                return nova_clausula\n",
    "    return None  # Não foi possível resolver\n",
    "\n",
    "# Representação clausal das bases de dados e da negação da sentença a provar\n",
    "clausulas = [\n",
    "    [('~h', 'X'), ('~d', 'Y'), ('f', 'X', 'Y')],  # ¬h(X) ∨ ¬d(Y) ∨ f(X, Y)\n",
    "    [('~g', 'Y'), ('d', 'Y')],  # ¬g(Y) ∨ d(Y)\n",
    "    [('~f', 'X', 'Y'), ('~f', 'Y', 'Z'), ('f', 'X', 'Z')]  # ¬f(X, Y) ∨ ¬f(Y, Z) ∨ f(X, Z)\n",
    "]\n",
    "\n",
    "# Sentença a provar (na forma negada para aplicar resolução)\n",
    "sentenca_negada = [('h', 'X'), ('r', 'Z'), ('~f', 'X', 'Z')]\n",
    "\n",
    "# Aplicando resolução\n",
    "for i, clausula1 in enumerate(clausulas):\n",
    "    for clausula2 in clausulas[i+1:] + [sentenca_negada]:\n",
    "        resultado = resolver(clausula1, clausula2)\n",
    "        if resultado is not None:\n",
    "            print(f\"Resolvendo: {clausula1} com {clausula2} => {resultado}\")\n",
    "            if not resultado:\n",
    "                print(\"Contradição encontrada. Sentença provada.\")\n",
    "                break\n"
   ]
  }
 ],
 "metadata": {
  "kernelspec": {
   "display_name": "Python 3",
   "language": "python",
   "name": "python3"
  },
  "language_info": {
   "codemirror_mode": {
    "name": "ipython",
    "version": 3
   },
   "file_extension": ".py",
   "mimetype": "text/x-python",
   "name": "python",
   "nbconvert_exporter": "python",
   "pygments_lexer": "ipython3",
   "version": "undefined.undefined.undefined"
  }
 },
 "nbformat": 4,
 "nbformat_minor": 2
}
