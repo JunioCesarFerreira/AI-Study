{
 "cells": [
  {
   "cell_type": "markdown",
   "metadata": {},
   "source": [
    "# O Jogo do Mundo de Wumpus\n",
    "\n",
    "## Introdução\n",
    "\n",
    "O Mundo de Wumpus é um jogo de tabuleiro simulado que serve como um ambiente de teste padrão para algoritmos de raciocínio e aprendizado em IA. O jogo foi introduzido por Gregory Yob em 1973 e, desde então, tornou-se um exemplo clássico usado para ensinar conceitos de IA, especialmente em lógica proposicional e raciocínio sob incerteza.\n",
    "\n",
    "## Objetivo do Jogo\n",
    "\n",
    "O jogador controla um agente (o explorador) cujo objetivo é encontrar um tesouro escondido em um mundo cavernoso e sair vivo. O mundo é composto por uma grade de salas conectadas por passagens. O jogador deve evitar ou neutralizar perigos como poços e o temido Wumpus, uma criatura que habita uma das salas.\n",
    "\n",
    "## Regras do Jogo\n",
    "\n",
    "1. **Ambiente de Grelha**: O mundo é uma grade quadrada 4x4, onde cada quadrado pode conter um poço, o Wumpus, ouro, ou nada. As salas (células da matriz 4x4) são conectadas na vertical e na horizontal. O agente inicia na posição [1,1] que é a entrada e saída da caverna.\n",
    "\n",
    "2. **Percepções**:\n",
    "   - **Brisa**: Sentida em quadrados adjacentes a poços.\n",
    "   - **Fedor**: Sentida em quadrados adjacentes ao Wumpus.\n",
    "   - **Brilho**: O ouro está no mesmo quadrado.\n",
    "   - **Bump**: O agente tentou se mover através de uma parede.\n",
    "   - **Grito**: O Wumpus foi morto.\n",
    "\n",
    "3. **Ações do Agente**:\n",
    "   - **Mover-se** para frente.\n",
    "   - **Virar à esquerda** ou **à direita**.\n",
    "   - **Atirar** uma flecha na direção que está olhando (o agente tem apenas uma flecha).\n",
    "   - **Pegar** o ouro.\n",
    "   - **Sair** do mundo, uma vez que o ouro tenha sido coletado.\n",
    "\n",
    "4. **Condições de Encerramento**:\n",
    "   - O agente pega o ouro e sai da caverna.\n",
    "   - O agente cai em um poço ou é devorado pelo Wumpus.\n",
    "   - O agente decide deixar a caverna sem o ouro.\n",
    "\n",
    "5. **Medida de desempenho**:\n",
    "   - **+1000** por pegar o ouro.\n",
    "   - **-1000** se cair e um poço oou for devorado pelo Wumpus.\n",
    "   - **-1** para cada ação executada.\n",
    "   - **-10** pelo uso da flecha."
   ]
  },
  {
   "cell_type": "code",
   "execution_count": 2,
   "metadata": {},
   "outputs": [],
   "source": [
    "class WumpusWorld:\n",
    "    def __init__(self, size=4):\n",
    "        self.size = size  # Tamanho do tabuleiro (size x size)\n",
    "        self.board = [[None for _ in range(size)] for _ in range(size)]  # Cria o tabuleiro\n",
    "        self.agent = {'x': 0, 'y': 0, 'direction': 'north'}  # Posição e direção inicial do agente\n",
    "        self.wumpus = {'x': 1, 'y': 1}  # Localização do Wumpus\n",
    "        self.pits = []                  # Lista de localizações dos poços\n",
    "        self.gold = {'x': 3, 'y': 3}    # Localização do ouro\n",
    "        self.has_gold = False           # O agente tem o ouro?\n",
    "        self.arrows = 1                 # Flechas disponíveis\n",
    "\n",
    "    def move_forward(self):\n",
    "        # Função para mover o agente para frente\n",
    "        pass\n",
    "\n",
    "    def turn_left(self):\n",
    "        # Função para virar o agente à esquerda\n",
    "        pass\n",
    "\n",
    "    def turn_right(self):\n",
    "        # Função para virar o agente à direita\n",
    "        pass\n",
    "\n",
    "    def shoot_arrow(self):\n",
    "        # Função para atirar uma flecha\n",
    "        pass\n",
    "\n",
    "    def pick_gold(self):\n",
    "        # Função para pegar o ouro\n",
    "        pass\n",
    "\n",
    "    def check_perceptions(self):\n",
    "        # Função para gerar percepções baseadas na localização atual do agente\n",
    "        pass\n",
    "\n",
    "    def check_game_state(self):\n",
    "        # Função para verificar o estado do jogo\n",
    "        pass\n",
    "\n",
    "# Exemplo de criação de uma instância do jogo\n",
    "game = WumpusWorld()\n"
   ]
  },
  {
   "cell_type": "code",
   "execution_count": 27,
   "metadata": {},
   "outputs": [
    {
     "name": "stdout",
     "output_type": "stream",
     "text": [
      "float matrix\n",
      " 0.86  0.28  0.22  0.03 \n",
      " 0.62  0.40  0.50  0.85 \n",
      " 0.96  0.05  0.39  0.45 \n",
      " 0.14  0.90  0.33  0.05 \n",
      "\n",
      "int matrix\n",
      "    4    23    49    88 \n",
      "   34    64    74    57 \n",
      "   21    21    98     4 \n",
      "   46    39    70    70 \n"
     ]
    }
   ],
   "source": [
    "import numpy as np\n",
    "\n",
    "m = np.random.rand(4, 4)\n",
    "\n",
    "def print_float_matrix(M):\n",
    "    for row in M:\n",
    "        for cell in row:\n",
    "            print(f\"{cell:>5.2f}\", end=\" \")\n",
    "        print()\n",
    "\n",
    "print('float matrix')\n",
    "print_float_matrix(m)\n",
    "\n",
    "m = np.random.randint(1, 100, size=(4, 4))\n",
    "\n",
    "def print_int_matrix(M):\n",
    "    for row in M:\n",
    "        for cell in row:\n",
    "            print(f\"{cell:>5}\", end=\" \")\n",
    "        print()\n",
    "\n",
    "print('\\nint matrix')\n",
    "print_int_matrix(m)"
   ]
  },
  {
   "cell_type": "code",
   "execution_count": 51,
   "metadata": {},
   "outputs": [],
   "source": [
    "import itertools\n",
    "\n",
    "def probabilityDistribution(S, M, n_dangers=3, n_rows=4, n_cols=4):\n",
    "    # Conjunto de todas as células\n",
    "    B = {(i, j) for i in range(n_rows) for j in range(n_cols)}\n",
    "\n",
    "    # Conjunto das células possíveis para perigos (não seguras)\n",
    "    uS = B - S\n",
    "\n",
    "    def is_valid_combination(C, M):        \n",
    "        adjC = set()\n",
    "        for cell in C:\n",
    "            for elem in get_adjacent_cells(cell):\n",
    "                adjC.add(elem)\n",
    "\n",
    "        for i in range(n_rows):\n",
    "            for j in range(n_cols):\n",
    "                if (i,j) in M and (i,j) not in adjC:\n",
    "                    return False\n",
    "                \n",
    "        return True\n",
    "\n",
    "    def get_adjacent_cells(cell):\n",
    "        i, j = cell\n",
    "        adjacent = [(i-1, j), (i+1, j), (i, j-1), (i, j+1)]\n",
    "        return [(x, y) for x, y in adjacent if 0 <= x < n_rows and 0 <= y < n_cols]\n",
    "\n",
    "    V = [c for c in itertools.combinations(uS, n_dangers) if is_valid_combination(c, M)]\n",
    "\n",
    "    print(f\"number of valid combinations: {len(V)}\")\n",
    "\n",
    "    if len(V) <= 6:\n",
    "        for C in V:\n",
    "            print(C)\n",
    "            m = [[0 for _ in range(n_rows)] for _ in range(n_cols)]\n",
    "            for c in C:\n",
    "                m[c[0]][c[1]]=1\n",
    "            print_int_matrix(m)    \n",
    "        \n",
    "\n",
    "    def calculate_probability(cell, V):\n",
    "        count = sum(1 for C in V if cell in C)\n",
    "        return count / len(V)\n",
    "\n",
    "    probabilities = [[0.0 for _ in range(n_cols)] for _ in range(n_rows)]\n",
    "\n",
    "    for cell in uS:\n",
    "        probabilities[cell[0]][cell[1]] = calculate_probability(cell, V)\n",
    "\n",
    "    print_float_matrix(probabilities)"
   ]
  },
  {
   "cell_type": "code",
   "execution_count": 53,
   "metadata": {},
   "outputs": [
    {
     "name": "stdout",
     "output_type": "stream",
     "text": [
      "number of valid combinations: 286\n",
      " 0.00  0.00  0.23  0.23 \n",
      " 0.00  0.23  0.23  0.23 \n",
      " 0.23  0.23  0.23  0.23 \n",
      " 0.23  0.23  0.23  0.23 \n"
     ]
    }
   ],
   "source": [
    "# Conjunto de células seguras\n",
    "S = {(0, 0), (0, 1), (1, 0)}\n",
    "\n",
    "# Conjunto de células visitadas com indicação de perigo\n",
    "M = set()\n",
    "\n",
    "probabilityDistribution(S, M)"
   ]
  },
  {
   "cell_type": "code",
   "execution_count": 54,
   "metadata": {},
   "outputs": [
    {
     "name": "stdout",
     "output_type": "stream",
     "text": [
      "number of valid combinations: 36\n",
      " 0.00  0.00  1.00  0.22 \n",
      " 0.00  0.00  0.22  0.22 \n",
      " 0.00  0.00  0.22  0.22 \n",
      " 0.22  0.22  0.22  0.22 \n"
     ]
    }
   ],
   "source": [
    "S = {(0,0), (0,1), (1,0), (1,1), (2,0), (2,1)}\n",
    "\n",
    "M = {(0,1)}\n",
    "\n",
    "probabilityDistribution(S,M)"
   ]
  },
  {
   "cell_type": "code",
   "execution_count": 58,
   "metadata": {},
   "outputs": [
    {
     "name": "stdout",
     "output_type": "stream",
     "text": [
      "number of valid combinations: 7\n",
      " 0.00  0.00  1.00  0.14 \n",
      " 0.00  0.00  0.00  0.14 \n",
      " 0.00  0.00  0.14  0.14 \n",
      " 1.00  0.14  0.14  0.14 \n"
     ]
    }
   ],
   "source": [
    "S = {(0,0), (0,1), (1,0), (1,1), (2,0), (2,1), (1,2)}\n",
    "\n",
    "M = {(0,1), (2,0), (1,2)}\n",
    "\n",
    "probabilityDistribution(S,M)"
   ]
  },
  {
   "cell_type": "code",
   "execution_count": 60,
   "metadata": {},
   "outputs": [
    {
     "name": "stdout",
     "output_type": "stream",
     "text": [
      "number of valid combinations: 5\n",
      "((0, 3), (3, 0), (0, 2))\n",
      "    0     0     1     1 \n",
      "    0     0     0     0 \n",
      "    0     0     0     0 \n",
      "    1     0     0     0 \n",
      "((3, 0), (2, 3), (0, 2))\n",
      "    0     0     1     0 \n",
      "    0     0     0     0 \n",
      "    0     0     0     1 \n",
      "    1     0     0     0 \n",
      "((3, 0), (0, 2), (3, 3))\n",
      "    0     0     1     0 \n",
      "    0     0     0     0 \n",
      "    0     0     0     0 \n",
      "    1     0     0     1 \n",
      "((3, 0), (0, 2), (3, 2))\n",
      "    0     0     1     0 \n",
      "    0     0     0     0 \n",
      "    0     0     0     0 \n",
      "    1     0     1     0 \n",
      "((3, 0), (0, 2), (1, 3))\n",
      "    0     0     1     0 \n",
      "    0     0     0     1 \n",
      "    0     0     0     0 \n",
      "    1     0     0     0 \n",
      " 0.00  0.00  1.00  0.20 \n",
      " 0.00  0.00  0.00  0.20 \n",
      " 0.00  0.00  0.00  0.20 \n",
      " 1.00  0.00  0.20  0.20 \n"
     ]
    }
   ],
   "source": [
    "S = {(0,0), (0,1), (1,0), (1,1), (2,0), (2,1), (1,2), (2,2), (2,1), (3,1)}\n",
    "\n",
    "M = {(0,1), (2,0)}\n",
    "\n",
    "probabilityDistribution(S,M)"
   ]
  },
  {
   "cell_type": "code",
   "execution_count": null,
   "metadata": {},
   "outputs": [],
   "source": [
    "S = {(0,0), (0,1), (1,0), (1,1), (2,0), (2,1), (1,2), (2,2), (2,1), (3,1)}\n",
    "\n",
    "M = {(0,1), (2,0)}\n",
    "\n",
    "probabilityDistribution(S,M)"
   ]
  }
 ],
 "metadata": {
  "kernelspec": {
   "display_name": "Python 3",
   "language": "python",
   "name": "python3"
  },
  "language_info": {
   "codemirror_mode": {
    "name": "ipython",
    "version": 3
   },
   "file_extension": ".py",
   "mimetype": "text/x-python",
   "name": "python",
   "nbconvert_exporter": "python",
   "pygments_lexer": "ipython3",
   "version": "3.12.1"
  }
 },
 "nbformat": 4,
 "nbformat_minor": 2
}
