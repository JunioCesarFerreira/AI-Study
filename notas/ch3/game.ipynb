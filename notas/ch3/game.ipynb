{
 "cells": [
  {
   "cell_type": "code",
   "execution_count": 8,
   "metadata": {},
   "outputs": [
    {
     "name": "stdout",
     "output_type": "stream",
     "text": [
      "Com 2 objetos, o jogador maximizador vencerá retirando 1 objetos.\n",
      "Com 3 objetos, o jogador maximizador vencerá retirando 2 objetos.\n",
      "Com 4 objetos, o jogador maximizador vencerá retirando 3 objetos.\n",
      "Com 5 objetos, o jogador minimizador vencerá retirando 1 objetos.\n",
      "Com 6 objetos, o jogador maximizador vencerá retirando 1 objetos.\n",
      "Com 7 objetos, o jogador maximizador vencerá retirando 2 objetos.\n",
      "Com 8 objetos, o jogador maximizador vencerá retirando 3 objetos.\n",
      "Com 9 objetos, o jogador minimizador vencerá retirando 1 objetos.\n",
      "Com 10 objetos, o jogador maximizador vencerá retirando 1 objetos.\n"
     ]
    }
   ],
   "source": [
    "def minimax(n, jogador_maximizando):\n",
    "    \"\"\"\n",
    "    Função Minimax para determinar o melhor movimento no Jogo Nim.\n",
    "    :param n: Número atual de objetos no monte.\n",
    "    :param jogador_maximizando: Booleano que indica se é a vez do jogador que está maximizando.\n",
    "    :return: Tupla (melhor_pontuação, melhor_movimento).\n",
    "    \"\"\"\n",
    "\n",
    "    # Caso base: se não há mais objetos, o jogador anterior venceu\n",
    "    if n == 0:\n",
    "        return (1, 0) if jogador_maximizando else (-1, 0)\n",
    "\n",
    "    # Se é a vez do jogador que está maximizando\n",
    "    if jogador_maximizando:\n",
    "        melhor_pontuacao = -float('inf')\n",
    "        for i in range(1, 4): # Movimentos possíveis: retirar 1, 2 ou 3 objetos\n",
    "            if i <= n: # Verifica se o movimento é possível\n",
    "                pontuacao, _ = minimax(n - i, False)\n",
    "                if pontuacao > melhor_pontuacao:\n",
    "                    melhor_pontuacao, melhor_movimento = pontuacao, i\n",
    "        return melhor_pontuacao, melhor_movimento\n",
    "    else:\n",
    "        # Se é a vez do jogador que está minimizando\n",
    "        melhor_pontuacao = float('inf')\n",
    "        for i in range(1, 4):\n",
    "            if i <= n:\n",
    "                pontuacao, _ = minimax(n - i, True)\n",
    "                if pontuacao < melhor_pontuacao:\n",
    "                    melhor_pontuacao, melhor_movimento = pontuacao, i\n",
    "        return melhor_pontuacao, melhor_movimento\n",
    "\n",
    "def jogar_nim(n):\n",
    "    \"\"\"\n",
    "    Joga uma partida de Nim com o número inicial de objetos e determina o melhor movimento.\n",
    "    :param n: Número inicial de objetos no monte.\n",
    "    \"\"\"\n",
    "    pontuacao, movimento = minimax(n, True)\n",
    "    if pontuacao > 0:\n",
    "        print(f\"Com {n} objetos, o jogador maximizador vencerá retirando {movimento} objetos.\")\n",
    "    elif pontuacao < 0:\n",
    "        print(f\"Com {n} objetos, o jogador minimizador vencerá retirando {movimento} objetos.\")\n",
    "    else:\n",
    "        print(f\"Com {n} objetos, o jogo é um empate retirando {movimento} objetos.\")\n",
    "\n",
    "# Exemplo de uso\n",
    "for i in range(2, 11):\n",
    "    jogar_nim(i)\n"
   ]
  }
 ],
 "metadata": {
  "kernelspec": {
   "display_name": "Python 3",
   "language": "python",
   "name": "python3"
  },
  "language_info": {
   "codemirror_mode": {
    "name": "ipython",
    "version": 3
   },
   "file_extension": ".py",
   "mimetype": "text/x-python",
   "name": "python",
   "nbconvert_exporter": "python",
   "pygments_lexer": "ipython3",
   "version": "3.12.1"
  }
 },
 "nbformat": 4,
 "nbformat_minor": 2
}
